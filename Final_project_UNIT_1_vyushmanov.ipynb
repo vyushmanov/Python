{
 "cells": [
  {
   "cell_type": "code",
   "execution_count": 130,
   "metadata": {},
   "outputs": [],
   "source": [
    "import re\n",
    "import numpy as np\n",
    "import collections\n",
    "import pandas as pd\n",
    "import seaborn as sns\n",
    "import matplotlib.pyplot as plt\n",
    "import os"
   ]
  },
  {
   "cell_type": "code",
   "execution_count": 518,
   "metadata": {},
   "outputs": [],
   "source": [
    "data = pd.read_csv('C:\\\\Users\\\\vyushmanov\\\\Documents\\\\GitHub\\\\skillfactory\\\\data.csv')\n",
    "\n",
    "data['profit']             = data.apply(lambda x: x['revenue'] - x['budget'], axis = 1)\n",
    "data['cast_lst']           = data['cast'].apply(lambda x: x.split('|'))\n",
    "data['director_lst']       = data['director'].apply(lambda x: x.split('|'))\n",
    "data['genres_lst']         = data['genres'].apply(lambda x: x.split('|'))\n",
    "data['prod_companies_lst'] = data['production_companies'].apply(lambda x: x.split('|'))\n",
    "\n",
    "data['release_month'] = data['release_date'].apply(lambda x: int(x[:re.search(r'/\\d+', x).start()]))\n",
    "data['sesons'] = data['release_month'].apply(lambda x: 'winter' if x<=2 or x==12 else \n",
    "                                                     'spring' if x<=5 else \n",
    "                                                     'summer' if x<=8 else\n",
    "                                                     'autumn')"
   ]
  },
  {
   "cell_type": "code",
   "execution_count": 413,
   "metadata": {},
   "outputs": [
    {
     "name": "stdout",
     "output_type": "stream",
     "text": [
      "<class 'pandas.core.frame.DataFrame'>\n",
      "RangeIndex: 1890 entries, 0 to 1889\n",
      "Data columns (total 23 columns):\n",
      "imdb_id                 1890 non-null object\n",
      "popularity              1890 non-null float64\n",
      "budget                  1890 non-null int64\n",
      "revenue                 1890 non-null int64\n",
      "original_title          1890 non-null object\n",
      "cast                    1890 non-null object\n",
      "director                1890 non-null object\n",
      "tagline                 1890 non-null object\n",
      "overview                1890 non-null object\n",
      "runtime                 1890 non-null int64\n",
      "genres                  1890 non-null object\n",
      "production_companies    1890 non-null object\n",
      "release_date            1890 non-null object\n",
      "vote_count              1890 non-null int64\n",
      "vote_average            1890 non-null float64\n",
      "release_year            1890 non-null int64\n",
      "profit                  1890 non-null int64\n",
      "cast_lst                1890 non-null object\n",
      "director_lst            1890 non-null object\n",
      "genres_lst              1890 non-null object\n",
      "prod_companies_lst      1890 non-null object\n",
      "release_month           1890 non-null int64\n",
      "sesons                  1890 non-null object\n",
      "dtypes: float64(2), int64(7), object(14)\n",
      "memory usage: 339.7+ KB\n"
     ]
    }
   ],
   "source": [
    "data.info()"
   ]
  },
  {
   "cell_type": "code",
   "execution_count": 252,
   "metadata": {},
   "outputs": [
    {
     "data": {
      "text/plain": [
       "1"
      ]
     },
     "execution_count": 252,
     "metadata": {},
     "output_type": "execute_result"
    }
   ],
   "source": [
    "genres_list = data.genres.sum()\n",
    "pd.Series(genres_list).value_counts()[0]"
   ]
  },
  {
   "cell_type": "code",
   "execution_count": 15,
   "metadata": {},
   "outputs": [
    {
     "data": {
      "text/html": [
       "<div>\n",
       "<style scoped>\n",
       "    .dataframe tbody tr th:only-of-type {\n",
       "        vertical-align: middle;\n",
       "    }\n",
       "\n",
       "    .dataframe tbody tr th {\n",
       "        vertical-align: top;\n",
       "    }\n",
       "\n",
       "    .dataframe thead th {\n",
       "        text-align: right;\n",
       "    }\n",
       "</style>\n",
       "<table border=\"1\" class=\"dataframe\">\n",
       "  <thead>\n",
       "    <tr style=\"text-align: right;\">\n",
       "      <th></th>\n",
       "      <th>original_title</th>\n",
       "      <th>imdb_id</th>\n",
       "    </tr>\n",
       "  </thead>\n",
       "  <tbody>\n",
       "    <tr>\n",
       "      <td>491</td>\n",
       "      <td>The Warrior's Way</td>\n",
       "      <td>tt1032751</td>\n",
       "    </tr>\n",
       "  </tbody>\n",
       "</table>\n",
       "</div>"
      ],
      "text/plain": [
       "        original_title    imdb_id\n",
       "491  The Warrior's Way  tt1032751"
      ]
     },
     "metadata": {},
     "output_type": "display_data"
    }
   ],
   "source": [
    "data[data['budget'] == data['budget'].max()][['original_title', 'imdb_id']]"
   ]
  },
  {
   "cell_type": "code",
   "execution_count": 26,
   "metadata": {},
   "outputs": [
    {
     "data": {
      "text/html": [
       "<div>\n",
       "<style scoped>\n",
       "    .dataframe tbody tr th:only-of-type {\n",
       "        vertical-align: middle;\n",
       "    }\n",
       "\n",
       "    .dataframe tbody tr th {\n",
       "        vertical-align: top;\n",
       "    }\n",
       "\n",
       "    .dataframe thead th {\n",
       "        text-align: right;\n",
       "    }\n",
       "</style>\n",
       "<table border=\"1\" class=\"dataframe\">\n",
       "  <thead>\n",
       "    <tr style=\"text-align: right;\">\n",
       "      <th></th>\n",
       "      <th>original_title</th>\n",
       "      <th>imdb_id</th>\n",
       "      <th>runtime</th>\n",
       "    </tr>\n",
       "  </thead>\n",
       "  <tbody>\n",
       "    <tr>\n",
       "      <td>1158</td>\n",
       "      <td>Gods and Generals</td>\n",
       "      <td>tt0279111</td>\n",
       "      <td>214</td>\n",
       "    </tr>\n",
       "  </tbody>\n",
       "</table>\n",
       "</div>"
      ],
      "text/plain": [
       "         original_title    imdb_id  runtime\n",
       "1158  Gods and Generals  tt0279111      214"
      ]
     },
     "execution_count": 26,
     "metadata": {},
     "output_type": "execute_result"
    }
   ],
   "source": [
    "data[data['runtime'] == data['runtime'].max()][['original_title', 'imdb_id', 'runtime']]"
   ]
  },
  {
   "cell_type": "code",
   "execution_count": 25,
   "metadata": {},
   "outputs": [
    {
     "data": {
      "text/html": [
       "<div>\n",
       "<style scoped>\n",
       "    .dataframe tbody tr th:only-of-type {\n",
       "        vertical-align: middle;\n",
       "    }\n",
       "\n",
       "    .dataframe tbody tr th {\n",
       "        vertical-align: top;\n",
       "    }\n",
       "\n",
       "    .dataframe thead th {\n",
       "        text-align: right;\n",
       "    }\n",
       "</style>\n",
       "<table border=\"1\" class=\"dataframe\">\n",
       "  <thead>\n",
       "    <tr style=\"text-align: right;\">\n",
       "      <th></th>\n",
       "      <th>original_title</th>\n",
       "      <th>imdb_id</th>\n",
       "      <th>runtime</th>\n",
       "    </tr>\n",
       "  </thead>\n",
       "  <tbody>\n",
       "    <tr>\n",
       "      <td>769</td>\n",
       "      <td>Winnie the Pooh</td>\n",
       "      <td>tt1449283</td>\n",
       "      <td>63</td>\n",
       "    </tr>\n",
       "  </tbody>\n",
       "</table>\n",
       "</div>"
      ],
      "text/plain": [
       "      original_title    imdb_id  runtime\n",
       "769  Winnie the Pooh  tt1449283       63"
      ]
     },
     "execution_count": 25,
     "metadata": {},
     "output_type": "execute_result"
    }
   ],
   "source": [
    "data[data['runtime'] == data['runtime'].min()][['original_title', 'imdb_id', 'runtime']]"
   ]
  },
  {
   "cell_type": "code",
   "execution_count": 19,
   "metadata": {},
   "outputs": [
    {
     "data": {
      "text/plain": [
       "109.65343915343915"
      ]
     },
     "execution_count": 19,
     "metadata": {},
     "output_type": "execute_result"
    }
   ],
   "source": [
    "data['runtime'].mean()"
   ]
  },
  {
   "cell_type": "code",
   "execution_count": 31,
   "metadata": {},
   "outputs": [
    {
     "data": {
      "text/plain": [
       "106.5"
      ]
     },
     "execution_count": 31,
     "metadata": {},
     "output_type": "execute_result"
    }
   ],
   "source": [
    "import statistics as st\n",
    "st.median(data['runtime'])"
   ]
  },
  {
   "cell_type": "code",
   "execution_count": 35,
   "metadata": {},
   "outputs": [
    {
     "data": {
      "text/html": [
       "<div>\n",
       "<style scoped>\n",
       "    .dataframe tbody tr th:only-of-type {\n",
       "        vertical-align: middle;\n",
       "    }\n",
       "\n",
       "    .dataframe tbody tr th {\n",
       "        vertical-align: top;\n",
       "    }\n",
       "\n",
       "    .dataframe thead th {\n",
       "        text-align: right;\n",
       "    }\n",
       "</style>\n",
       "<table border=\"1\" class=\"dataframe\">\n",
       "  <thead>\n",
       "    <tr style=\"text-align: right;\">\n",
       "      <th></th>\n",
       "      <th>original_title</th>\n",
       "      <th>imdb_id</th>\n",
       "      <th>profit</th>\n",
       "    </tr>\n",
       "  </thead>\n",
       "  <tbody>\n",
       "    <tr>\n",
       "      <td>239</td>\n",
       "      <td>Avatar</td>\n",
       "      <td>tt0499549</td>\n",
       "      <td>2544505847</td>\n",
       "    </tr>\n",
       "  </tbody>\n",
       "</table>\n",
       "</div>"
      ],
      "text/plain": [
       "    original_title    imdb_id      profit\n",
       "239         Avatar  tt0499549  2544505847"
      ]
     },
     "execution_count": 35,
     "metadata": {},
     "output_type": "execute_result"
    }
   ],
   "source": [
    "data[data['profit'] == data['profit'].max()][['original_title', 'imdb_id', 'profit']]"
   ]
  },
  {
   "cell_type": "code",
   "execution_count": 221,
   "metadata": {},
   "outputs": [
    {
     "data": {
      "text/html": [
       "<div>\n",
       "<style scoped>\n",
       "    .dataframe tbody tr th:only-of-type {\n",
       "        vertical-align: middle;\n",
       "    }\n",
       "\n",
       "    .dataframe tbody tr th {\n",
       "        vertical-align: top;\n",
       "    }\n",
       "\n",
       "    .dataframe thead th {\n",
       "        text-align: right;\n",
       "    }\n",
       "</style>\n",
       "<table border=\"1\" class=\"dataframe\">\n",
       "  <thead>\n",
       "    <tr style=\"text-align: right;\">\n",
       "      <th></th>\n",
       "      <th>original_title</th>\n",
       "      <th>imdb_id</th>\n",
       "      <th>profit</th>\n",
       "    </tr>\n",
       "  </thead>\n",
       "  <tbody>\n",
       "    <tr>\n",
       "      <td>491</td>\n",
       "      <td>The Warrior's Way</td>\n",
       "      <td>tt1032751</td>\n",
       "      <td>-413912431</td>\n",
       "    </tr>\n",
       "  </tbody>\n",
       "</table>\n",
       "</div>"
      ],
      "text/plain": [
       "        original_title    imdb_id     profit\n",
       "491  The Warrior's Way  tt1032751 -413912431"
      ]
     },
     "execution_count": 221,
     "metadata": {},
     "output_type": "execute_result"
    }
   ],
   "source": [
    "data[data['profit'] == data['profit'].min()][['original_title', 'imdb_id', 'profit']]"
   ]
  },
  {
   "cell_type": "code",
   "execution_count": 222,
   "metadata": {},
   "outputs": [
    {
     "data": {
      "text/plain": [
       "1478"
      ]
     },
     "execution_count": 222,
     "metadata": {},
     "output_type": "execute_result"
    }
   ],
   "source": [
    "data[data['profit'] > 0].index.nunique()"
   ]
  },
  {
   "cell_type": "code",
   "execution_count": 223,
   "metadata": {},
   "outputs": [
    {
     "data": {
      "text/plain": [
       "600    The Dark Knight\n",
       "Name: original_title, dtype: object"
      ]
     },
     "execution_count": 223,
     "metadata": {},
     "output_type": "execute_result"
    }
   ],
   "source": [
    "data9 = data[data['release_year'] == 2008]\n",
    "data9 = data9[['original_title', 'profit']].sort_values(by='profit', ascending=False)['original_title']\n",
    "pd.Series(data9)[:1]"
   ]
  },
  {
   "cell_type": "code",
   "execution_count": 224,
   "metadata": {},
   "outputs": [
    {
     "data": {
      "text/plain": [
       "1246    The Lone Ranger\n",
       "Name: original_title, dtype: object"
      ]
     },
     "execution_count": 224,
     "metadata": {},
     "output_type": "execute_result"
    }
   ],
   "source": [
    "data10 = data[(data['release_year'] >= 2012)&(data['release_year'] <=2014)]\n",
    "data10 = data10[['original_title', 'profit']].sort_values(by='profit', ascending=True)['original_title']\n",
    "pd.Series(data10)[:1]"
   ]
  },
  {
   "cell_type": "code",
   "execution_count": 261,
   "metadata": {},
   "outputs": [
    {
     "data": {
      "text/plain": [
       "Drama    782\n",
       "dtype: int64"
      ]
     },
     "execution_count": 261,
     "metadata": {},
     "output_type": "execute_result"
    }
   ],
   "source": [
    "genres_list = data.genres_lst.sum()\n",
    "pd.Series(genres_list).value_counts()[:1]"
   ]
  },
  {
   "cell_type": "code",
   "execution_count": 262,
   "metadata": {},
   "outputs": [
    {
     "data": {
      "text/plain": [
       "Drama    560\n",
       "dtype: int64"
      ]
     },
     "execution_count": 262,
     "metadata": {},
     "output_type": "execute_result"
    }
   ],
   "source": [
    "genres_list = data[data['profit'] > 0].genres_lst.sum()\n",
    "pd.Series(genres_list).value_counts()[:1]"
   ]
  },
  {
   "cell_type": "code",
   "execution_count": 263,
   "metadata": {},
   "outputs": [
    {
     "data": {
      "text/plain": [
       "Steven Soderbergh    13\n",
       "dtype: int64"
      ]
     },
     "execution_count": 263,
     "metadata": {},
     "output_type": "execute_result"
    }
   ],
   "source": [
    "director_list = data.director_lst.sum()\n",
    "pd.Series(director_list).value_counts()[:1]"
   ]
  },
  {
   "cell_type": "code",
   "execution_count": 264,
   "metadata": {},
   "outputs": [
    {
     "data": {
      "text/plain": [
       "Ridley Scott    12\n",
       "dtype: int64"
      ]
     },
     "execution_count": 264,
     "metadata": {},
     "output_type": "execute_result"
    }
   ],
   "source": [
    "director_list = data[data['profit'] > 0].director_lst.sum()\n",
    "pd.Series(director_list).value_counts()[:1]"
   ]
  },
  {
   "cell_type": "code",
   "execution_count": 272,
   "metadata": {},
   "outputs": [
    {
     "data": {
      "text/plain": [
       "director      Peter Jackson\n",
       "dir_profit       5202593685\n",
       "Name: 4, dtype: object"
      ]
     },
     "execution_count": 272,
     "metadata": {},
     "output_type": "execute_result"
    }
   ],
   "source": [
    "list_q = ['Steven Spielberg', 'Christopher Nolan', 'David Yates', 'James Cameron', 'Peter Jackson']\n",
    "dir_profit = []\n",
    "for dr in list_q:\n",
    "    res = data[data['director'].str.contains (dr, na=False)]['profit'].sum()\n",
    "    dir_profit.append(res)\n",
    "data_q = pd.DataFrame({'director': list_q, 'dir_profit': dir_profit}).sort_values('dir_profit', ascending=False)\n",
    "data_q.iloc[0]"
   ]
  },
  {
   "cell_type": "code",
   "execution_count": 275,
   "metadata": {},
   "outputs": [
    {
     "data": {
      "text/plain": [
       "cast           Emma Watson\n",
       "cast_profit     6666245597\n",
       "Name: 0, dtype: object"
      ]
     },
     "execution_count": 275,
     "metadata": {},
     "output_type": "execute_result"
    }
   ],
   "source": [
    "list_q = ['Emma Watson', 'Johnny Depp', 'Michelle Rodriguez', 'Orlando Bloom', 'Rupert Grint']\n",
    "cast_profit = []\n",
    "for cs in list_q:\n",
    "    res = data[data['cast'].str.contains (cs, na=False)]['profit'].sum()\n",
    "    cast_profit.append(res)\n",
    "data_q = pd.DataFrame({'cast': list_q, 'cast_profit': cast_profit}).sort_values('cast_profit', ascending=False)\n",
    "data_q.iloc[0]"
   ]
  },
  {
   "cell_type": "code",
   "execution_count": 277,
   "metadata": {},
   "outputs": [
    {
     "data": {
      "text/plain": [
       "cast           Kirsten Dunst\n",
       "cast_profit        -68109207\n",
       "Name: 2, dtype: object"
      ]
     },
     "execution_count": 277,
     "metadata": {},
     "output_type": "execute_result"
    }
   ],
   "source": [
    "list_q = ['Nicolas Cage', 'Danny Huston', 'Kirsten Dunst', 'Jim Sturgess', 'Sami Gayle']\n",
    "cast_profit = []\n",
    "for cs in list_q:\n",
    "    res = data[(data['cast'].str.contains (cs, na=False))&(data['release_year'] == 2012)]['profit'].sum()\n",
    "    cast_profit.append(res)\n",
    "data_q = pd.DataFrame({'cast': list_q, 'cast_profit': cast_profit}).sort_values('cast_profit', ascending=True)\n",
    "data_q.iloc[0]"
   ]
  },
  {
   "cell_type": "code",
   "execution_count": 726,
   "metadata": {},
   "outputs": [
    {
     "data": {
      "text/plain": [
       "('Matt Damon', 18)"
      ]
     },
     "execution_count": 726,
     "metadata": {},
     "output_type": "execute_result"
    }
   ],
   "source": [
    "# 18\n",
    "list_q = ['Tom Cruise', 'Mark Wahlberg', 'Matt Damon', 'Angelina Jolie', 'Adam Sandler']\n",
    "cast_list = data[data['budget'] > data['budget'].mean()].cast_lst.sum()\n",
    "c = collections.Counter()\n",
    "for cast in cast_list:\n",
    "    if cast in list_q:\n",
    "        c[cast] += 1\n",
    "Counter(c).most_common(1)[0]"
   ]
  },
  {
   "cell_type": "code",
   "execution_count": 301,
   "metadata": {},
   "outputs": [
    {
     "data": {
      "text/plain": [
       "('Action', 17)"
      ]
     },
     "execution_count": 301,
     "metadata": {},
     "output_type": "execute_result"
    }
   ],
   "source": [
    "# 19\n",
    "genres_list = data[data['cast'].str.contains ('Nicolas Cage', na=False)].genres_lst.sum()\n",
    "c = collections.Counter()\n",
    "for g in genres_list:\n",
    "    c[g] += 1\n",
    "Counter(c).most_common(1)[0]"
   ]
  },
  {
   "cell_type": "code",
   "execution_count": 311,
   "metadata": {},
   "outputs": [
    {
     "data": {
      "text/plain": [
       "('Universal Pictures', 173)"
      ]
     },
     "execution_count": 311,
     "metadata": {},
     "output_type": "execute_result"
    }
   ],
   "source": [
    "# 20\n",
    "list_q = [\n",
    "    'Universal Pictures', \n",
    "    'Paramount Pictures', \n",
    "    'Columbia Pictures', \n",
    "    'Warner Bros.', \n",
    "    'Twentieth Century Fox Film Corporation'\n",
    "    ]\n",
    "prod_list = data.prod_companies_lst.sum()\n",
    "c = collections.Counter()\n",
    "for prod in prod_list:\n",
    "    if prod in list_q:\n",
    "        c[prod] += 1\n",
    "Counter(c).most_common(1)[0]"
   ]
  },
  {
   "cell_type": "code",
   "execution_count": 316,
   "metadata": {},
   "outputs": [
    {
     "data": {
      "text/plain": [
       "('Warner Bros.', 12)"
      ]
     },
     "execution_count": 316,
     "metadata": {},
     "output_type": "execute_result"
    }
   ],
   "source": [
    "# 21\n",
    "list_q = [\n",
    "    'Universal Pictures', \n",
    "    'Paramount Pictures', \n",
    "    'Columbia Pictures', \n",
    "    'Warner Bros.', \n",
    "    'Twentieth Century Fox Film Corporation'\n",
    "    ]\n",
    "prod_list = data[data['release_year'] == 2015].prod_companies_lst.sum()\n",
    "c = collections.Counter()\n",
    "for prod in prod_list:\n",
    "    if prod in list_q:\n",
    "        c[prod] += 1\n",
    "Counter(c).most_common(1)[0]"
   ]
  },
  {
   "cell_type": "code",
   "execution_count": 326,
   "metadata": {},
   "outputs": [
    {
     "data": {
      "text/plain": [
       "('Universal Pictures', 75)"
      ]
     },
     "execution_count": 326,
     "metadata": {},
     "output_type": "execute_result"
    }
   ],
   "source": [
    "# 22\n",
    "list_q = [\n",
    "    'Warner Bros.', \n",
    "    'Universal Pictures', \n",
    "    'Columbia Pictures', \n",
    "    'Paramount Pictures', \n",
    "    'Walt Disney'\n",
    "    ]\n",
    "prod_list = data[data['genres'].str.contains ('Comedy', na=False)].prod_companies_lst.sum()\n",
    "c = collections.Counter()\n",
    "for prod in prod_list:\n",
    "    if prod in list_q:\n",
    "        c[prod] += 1\n",
    "Counter(c).most_common(1)[0]"
   ]
  },
  {
   "cell_type": "code",
   "execution_count": 331,
   "metadata": {},
   "outputs": [
    {
     "data": {
      "text/plain": [
       "cast           Columbia Pictures\n",
       "prod_profit           2501406608\n",
       "Name: 2, dtype: object"
      ]
     },
     "execution_count": 331,
     "metadata": {},
     "output_type": "execute_result"
    }
   ],
   "source": [
    "# 23\n",
    "list_q = [\n",
    "    'Universal Pictures', \n",
    "    'Warner Bros.', \n",
    "    'Columbia Pictures', \n",
    "    'Paramount Pictures', \n",
    "    'Lucasfilm'\n",
    "    ]\n",
    "prod_profit = []\n",
    "for prod in list_q:\n",
    "    res = data[(data['production_companies'].str.contains (prod, na=False))&(data['release_year'] == 2012)]['profit'].sum()\n",
    "    prod_profit.append(res)\n",
    "data23 = pd.DataFrame({'cast': list_q, 'prod_profit': prod_profit}).sort_values('prod_profit', ascending=False)\n",
    "data23.iloc[0]\n"
   ]
  },
  {
   "cell_type": "code",
   "execution_count": 340,
   "metadata": {},
   "outputs": [
    {
     "name": "stdout",
     "output_type": "stream",
     "text": [
      "K-19: The Widowmaker tt0267626\n"
     ]
    }
   ],
   "source": [
    "# 24\n",
    "data24 = data[data['production_companies'].str.contains ('Paramount Pictures', na=False)].sort_values('profit')\n",
    "print(data24.iloc[0]['original_title'], data24.iloc[0]['imdb_id'])"
   ]
  },
  {
   "cell_type": "code",
   "execution_count": 731,
   "metadata": {},
   "outputs": [
    {
     "data": {
      "text/plain": [
       "release_year           2015\n",
       "year_revenue    25449202382\n",
       "Name: 4, dtype: int64"
      ]
     },
     "execution_count": 731,
     "metadata": {},
     "output_type": "execute_result"
    }
   ],
   "source": [
    "# 25\n",
    "list_q = [2014, 2008, 2012, 2002, 2015]\n",
    "year_revenue = []\n",
    "for y in list_q:\n",
    "    res = data[data['release_year'] == y]['revenue'].sum()\n",
    "    year_revenue.append(res)\n",
    "data_q = pd.DataFrame({'release_year': list_q, 'year_revenue': year_revenue}).sort_values('year_revenue', ascending=False)\n",
    "data_q.iloc[0]"
   ]
  },
  {
   "cell_type": "code",
   "execution_count": 729,
   "metadata": {},
   "outputs": [
    {
     "data": {
      "text/plain": [
       "[]"
      ]
     },
     "execution_count": 729,
     "metadata": {},
     "output_type": "execute_result"
    }
   ],
   "source": [
    "year_profit"
   ]
  },
  {
   "cell_type": "code",
   "execution_count": 730,
   "metadata": {},
   "outputs": [
    {
     "data": {
      "text/plain": [
       "release_year          2014\n",
       "year_revenue    3243064519\n",
       "Name: 0, dtype: int64"
      ]
     },
     "execution_count": 730,
     "metadata": {},
     "output_type": "execute_result"
    }
   ],
   "source": [
    "# 26\n",
    "list_q = [2014, 2008, 2012, 2010, 2015]\n",
    "year_revenue = []\n",
    "for y in list_q:\n",
    "    res = data[(data['release_year'] == y)&(data['production_companies'].str.contains ('Warner Bros.', na=False))]['revenue'].sum()\n",
    "    year_revenue.append(res)\n",
    "data_q = pd.DataFrame({'release_year': list_q, 'year_revenue': year_revenue}).sort_values('year_revenue', ascending=False)\n",
    "data_q.iloc[0]"
   ]
  },
  {
   "cell_type": "code",
   "execution_count": 737,
   "metadata": {},
   "outputs": [
    {
     "data": {
      "text/plain": [
       "(9, 227)"
      ]
     },
     "execution_count": 737,
     "metadata": {},
     "output_type": "execute_result"
    }
   ],
   "source": [
    "# 27\n",
    "month_list = list(data['release_month'])\n",
    "list_q = [1, 7, 12, 9, 5]\n",
    "c = collections.Counter()\n",
    "for m in month_list:\n",
    "    if m in list_q:\n",
    "        c[m] += 1\n",
    "Counter(c).most_common(1)[0]"
   ]
  },
  {
   "cell_type": "code",
   "execution_count": 409,
   "metadata": {},
   "outputs": [
    {
     "data": {
      "text/plain": [
       "450"
      ]
     },
     "execution_count": 409,
     "metadata": {},
     "output_type": "execute_result"
    }
   ],
   "source": [
    "# 28\n",
    "len(data[data['sesons'] == 'summer'])"
   ]
  },
  {
   "cell_type": "code",
   "execution_count": 414,
   "metadata": {},
   "outputs": [
    {
     "data": {
      "text/plain": [
       "Peter Jackson    7\n",
       "dtype: int64"
      ]
     },
     "execution_count": 414,
     "metadata": {},
     "output_type": "execute_result"
    }
   ],
   "source": [
    "# 29\n",
    "director_list = data[data['sesons'] == 'winter'].director_lst.sum()\n",
    "pd.Series(director_list).value_counts()[:1]"
   ]
  },
  {
   "cell_type": "code",
   "execution_count": 724,
   "metadata": {},
   "outputs": [
    {
     "data": {
      "text/plain": [
       "(6, 7)"
      ]
     },
     "execution_count": 724,
     "metadata": {},
     "output_type": "execute_result"
    }
   ],
   "source": [
    "# 30\n",
    "data30 = data.pivot_table(values=['profit'],\n",
    "    index=['release_year'],\n",
    "    columns=['release_month'],\n",
    "    aggfunc='sum')\n",
    "\n",
    "answer = []\n",
    "for i in range(len(data30)):\n",
    "    data_temp = data30.iloc[i].reset_index()\n",
    "    a = data_temp.columns.tolist()[2]\n",
    "    data_temp[a].max()\n",
    "    b = data_temp[data_temp[a] == data_temp[a].max()].values[0]\n",
    "    answer.append(b[1])\n",
    "\n",
    "c = collections.Counter()\n",
    "for m in answer:\n",
    "    c[m] += 1\n",
    "Counter(c).most_common(1)[0]"
   ]
  },
  {
   "cell_type": "code",
   "execution_count": 465,
   "metadata": {},
   "outputs": [
    {
     "data": {
      "text/plain": [
       "prod             Four By Two Productions\n",
       "avg_len_title                         83\n",
       "Name: 4, dtype: object"
      ]
     },
     "execution_count": 465,
     "metadata": {},
     "output_type": "execute_result"
    }
   ],
   "source": [
    "# 31\n",
    "list_q = ['Universal Pictures', 'Warner Bros', 'Jim Henson Company, The', 'Paramount Pictures', 'Four By Two Productions']\n",
    "data['len_title'] = data['original_title'].apply(lambda x: len(x))\n",
    "avg_len_title = []\n",
    "for y in list_q:\n",
    "    res = data[data['production_companies'].str.contains (y, na=False)]['len_title'].mean()\n",
    "    avg_len_title.append(res)\n",
    "data_q = pd.DataFrame({'prod': list_q, 'avg_len_title': avg_len_title}).sort_values('avg_len_title', ascending=False)\n",
    "data_q.iloc[0]"
   ]
  },
  {
   "cell_type": "code",
   "execution_count": 469,
   "metadata": {},
   "outputs": [
    {
     "data": {
      "text/plain": [
       "prod              Four By Two Productions\n",
       "avg_word_title                         12\n",
       "Name: 4, dtype: object"
      ]
     },
     "execution_count": 469,
     "metadata": {},
     "output_type": "execute_result"
    }
   ],
   "source": [
    "# 32\n",
    "list_q = ['Universal Pictures', 'Warner Bros', 'Jim Henson Company, The', 'Paramount Pictures', 'Four By Two Productions']\n",
    "pattern = re.compile('[\\w\\d]+\\W*')\n",
    "data['word_title'] = data['original_title'].apply(lambda x: len(pattern.findall(x)))\n",
    "avg_word_title = []\n",
    "for y in list_q:\n",
    "    res = data[data['production_companies'].str.contains (y, na=False)]['word_title'].mean()\n",
    "    avg_word_title.append(res)\n",
    "data_q = pd.DataFrame({'prod': list_q, 'avg_word_title': avg_word_title}).sort_values('avg_word_title', ascending=False)\n",
    "data_q.iloc[0]\n"
   ]
  },
  {
   "cell_type": "code",
   "execution_count": 740,
   "metadata": {},
   "outputs": [
    {
     "data": {
      "text/plain": [
       "2346"
      ]
     },
     "execution_count": 740,
     "metadata": {},
     "output_type": "execute_result"
    }
   ],
   "source": [
    "# 33\n",
    "list_33 = []\n",
    "data33 = pd.DataFrame()\n",
    "pattern = re.compile('([\\w\\']{2,})\\W*')\n",
    "data33['original_title'] = data['original_title'].map(lambda x: x.lower())\n",
    "data33['tagline'] = data['tagline'].map(lambda x: x.lower())\n",
    "list_q = list(data33['original_title'])\n",
    "#list_q.extend(list(data33['tagline']))\n",
    "for w in list_q:\n",
    "    list_33.extend(pattern.findall(w))\n",
    "#    print(w, pattern.findall(w), len(list_33))\n",
    "pd.Series(list_33).nunique()"
   ]
  },
  {
   "cell_type": "code",
   "execution_count": 738,
   "metadata": {},
   "outputs": [],
   "source": [
    "data33 = ''"
   ]
  },
  {
   "cell_type": "code",
   "execution_count": 577,
   "metadata": {},
   "outputs": [
    {
     "name": "stdout",
     "output_type": "stream",
     "text": [
      "['Inside Out', 'Gone Girl', '12 Years a Slave'] True\n",
      "['BloodRayne', 'The Adventures of Rocky & Bullwinkle'] False\n",
      "['The Lord of the Rings: The Return of the King', 'Upside Down'] False\n",
      "['300', 'Lucky Number Slevin'] False\n",
      "['Upside Down, 300, Inside Out, The Lord of the Rings: The Return of the King'] False\n"
     ]
    }
   ],
   "source": [
    "# 34\n",
    "dict_q = [['Inside Out', 'Gone Girl', '12 Years a Slave'], \n",
    "          ['BloodRayne', 'The Adventures of Rocky & Bullwinkle'], \n",
    "          ['The Lord of the Rings: The Return of the King', 'Upside Down'], \n",
    "          ['300', 'Lucky Number Slevin'],\n",
    "          ['Upside Down, 300, Inside Out, The Lord of the Rings: The Return of the King']]\n",
    "data34 = data.sort_values(['vote_average', 'vote_count'], ascending=[False, False])\n",
    "data34 = data34[:int((len(data34)*0.01))+1]\n",
    "list_answer = list(data34['original_title'])\n",
    "for i in dict_q:\n",
    "    flag = False\n",
    "    for j in i:\n",
    "        if j in list_answer:\n",
    "            flag = True\n",
    "        else: \n",
    "            flag = False\n",
    "            break\n",
    "    print(i, flag)"
   ]
  },
  {
   "cell_type": "code",
   "execution_count": 593,
   "metadata": {},
   "outputs": [
    {
     "name": "stderr",
     "output_type": "stream",
     "text": [
      "C:\\Users\\vyushmanov\\Anaconda3\\lib\\site-packages\\ipykernel_launcher.py:12: SettingWithCopyWarning: \n",
      "A value is trying to be set on a copy of a slice from a DataFrame.\n",
      "Try using .loc[row_indexer,col_indexer] = value instead\n",
      "\n",
      "See the caveats in the documentation: http://pandas.pydata.org/pandas-docs/stable/user_guide/indexing.html#returning-a-view-versus-a-copy\n",
      "  if sys.path[0] == '':\n"
     ]
    },
    {
     "data": {
      "text/plain": [
       "(\"['Daniel Radcliffe', 'Rupert Grint']\", 8)"
      ]
     },
     "execution_count": 593,
     "metadata": {},
     "output_type": "execute_result"
    }
   ],
   "source": [
    "# 35\n",
    "data35 = pd.DataFrame()\n",
    "dict_q = [['Johnny Depp', 'Helena Bonham Carter'],\n",
    "          ['Hugh Jackman',  'Ian McKellen'],\n",
    "          ['Vin Diesel',  'Paul Walker'],\n",
    "          ['Adam Sandler',  'Kevin James'],\n",
    "          ['Daniel Radcliffe',  'Rupert Grint']]\n",
    "for i in dict_q:\n",
    "    temp = data.loc[(data['cast'].str.contains (i[0], na=False))&(data['cast'].str.contains (i[1], na=False))]\n",
    "    temp['duble'] = str(i)\n",
    "    data35 = pd.concat([data35, temp], sort = False)\n",
    "double_list = list(data35['duble'])\n",
    "c = collections.Counter()\n",
    "for g in double_list:\n",
    "    c[g] += 1\n",
    "Counter(c).most_common(1)[0]"
   ]
  },
  {
   "cell_type": "code",
   "execution_count": 613,
   "metadata": {},
   "outputs": [
    {
     "data": {
      "text/plain": [
       "director      Christopher Nolan\n",
       "profitable                    1\n",
       "Name: 3, dtype: object"
      ]
     },
     "execution_count": 613,
     "metadata": {},
     "output_type": "execute_result"
    }
   ],
   "source": [
    "list_q = ['Quentin Tarantino', 'Steven Soderbergh', 'Robert Rodriguez', 'Christopher Nolan', 'Clint Eastwood']\n",
    "data['profitable'] = data['profit'].apply(lambda x: True if x > 0 else False)\n",
    "director_ = []\n",
    "profitable = []\n",
    "for i in list_q:\n",
    "    a = len(data[(data['profitable'] == True)&(data['director'].str.contains(i, na=False))])\n",
    "    b = len(data[data['director'].str.contains(i, na=False)])\n",
    "    director_.append(i)\n",
    "    profitable.append(a/b) \n",
    "data36 = pd.DataFrame({'director': director_, 'profitable': profitable}).sort_values(by='profitable', ascending=False)\n",
    "data36.iloc[0]"
   ]
  }
 ],
 "metadata": {
  "kernelspec": {
   "display_name": "Python 3",
   "language": "python",
   "name": "python3"
  },
  "language_info": {
   "codemirror_mode": {
    "name": "ipython",
    "version": 3
   },
   "file_extension": ".py",
   "mimetype": "text/x-python",
   "name": "python",
   "nbconvert_exporter": "python",
   "pygments_lexer": "ipython3",
   "version": "3.7.4"
  }
 },
 "nbformat": 4,
 "nbformat_minor": 2
}
